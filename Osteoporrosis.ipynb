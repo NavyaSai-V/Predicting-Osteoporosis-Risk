{
 "cells": [
  {
   "cell_type": "markdown",
   "metadata": {},
   "source": [
    "# Predicting Osteoporosis Risk"
   ]
  },
  {
   "cell_type": "markdown",
   "metadata": {},
   "source": [
    "### Importing Libraries"
   ]
  },
  {
   "cell_type": "code",
   "execution_count": 1,
   "metadata": {},
   "outputs": [],
   "source": [
    "import numpy as np\n",
    "import pandas as pd\n",
    "\n",
    "# Visualization Libraries\n",
    "import matplotlib.pyplot as plt\n",
    "import seaborn as sns\n",
    "\n",
    "# Machine Learning Libraries\n",
    "from sklearn.model_selection import train_test_split, GridSearchCV\n",
    "from sklearn.preprocessing import OneHotEncoder, StandardScaler, PolynomialFeatures, LabelEncoder\n",
    "from sklearn.compose import ColumnTransformer\n",
    "from sklearn.pipeline import Pipeline\n",
    "from xgboost import XGBClassifier\n",
    "from sklearn.metrics import (accuracy_score, \n",
    "                             confusion_matrix, \n",
    "                             classification_report, \n",
    "                             precision_score, \n",
    "                             recall_score, \n",
    "                             f1_score)"
   ]
  },
  {
   "cell_type": "markdown",
   "metadata": {},
   "source": [
    "### Import the dataset"
   ]
  },
  {
   "cell_type": "code",
   "execution_count": 2,
   "metadata": {},
   "outputs": [
    {
     "data": {
      "text/html": [
       "<div>\n",
       "<style scoped>\n",
       "    .dataframe tbody tr th:only-of-type {\n",
       "        vertical-align: middle;\n",
       "    }\n",
       "\n",
       "    .dataframe tbody tr th {\n",
       "        vertical-align: top;\n",
       "    }\n",
       "\n",
       "    .dataframe thead th {\n",
       "        text-align: right;\n",
       "    }\n",
       "</style>\n",
       "<table border=\"1\" class=\"dataframe\">\n",
       "  <thead>\n",
       "    <tr style=\"text-align: right;\">\n",
       "      <th></th>\n",
       "      <th>Id</th>\n",
       "      <th>Age</th>\n",
       "      <th>Gender</th>\n",
       "      <th>Hormonal Changes</th>\n",
       "      <th>Family History</th>\n",
       "      <th>Race/Ethnicity</th>\n",
       "      <th>Body Weight</th>\n",
       "      <th>Calcium Intake</th>\n",
       "      <th>Vitamin D Intake</th>\n",
       "      <th>Physical Activity</th>\n",
       "      <th>Smoking</th>\n",
       "      <th>Alcohol Consumption</th>\n",
       "      <th>Medical Conditions</th>\n",
       "      <th>Medications</th>\n",
       "      <th>Prior Fractures</th>\n",
       "      <th>Osteoporosis</th>\n",
       "    </tr>\n",
       "  </thead>\n",
       "  <tbody>\n",
       "    <tr>\n",
       "      <th>0</th>\n",
       "      <td>104866</td>\n",
       "      <td>69</td>\n",
       "      <td>Female</td>\n",
       "      <td>Normal</td>\n",
       "      <td>Yes</td>\n",
       "      <td>Asian</td>\n",
       "      <td>Underweight</td>\n",
       "      <td>Low</td>\n",
       "      <td>Sufficient</td>\n",
       "      <td>Sedentary</td>\n",
       "      <td>Yes</td>\n",
       "      <td>Moderate</td>\n",
       "      <td>Rheumatoid Arthritis</td>\n",
       "      <td>Corticosteroids</td>\n",
       "      <td>Yes</td>\n",
       "      <td>1</td>\n",
       "    </tr>\n",
       "    <tr>\n",
       "      <th>1</th>\n",
       "      <td>101999</td>\n",
       "      <td>32</td>\n",
       "      <td>Female</td>\n",
       "      <td>Normal</td>\n",
       "      <td>Yes</td>\n",
       "      <td>Asian</td>\n",
       "      <td>Underweight</td>\n",
       "      <td>Low</td>\n",
       "      <td>Sufficient</td>\n",
       "      <td>Sedentary</td>\n",
       "      <td>No</td>\n",
       "      <td>NaN</td>\n",
       "      <td>NaN</td>\n",
       "      <td>NaN</td>\n",
       "      <td>Yes</td>\n",
       "      <td>1</td>\n",
       "    </tr>\n",
       "    <tr>\n",
       "      <th>2</th>\n",
       "      <td>106567</td>\n",
       "      <td>89</td>\n",
       "      <td>Female</td>\n",
       "      <td>Postmenopausal</td>\n",
       "      <td>No</td>\n",
       "      <td>Caucasian</td>\n",
       "      <td>Normal</td>\n",
       "      <td>Adequate</td>\n",
       "      <td>Sufficient</td>\n",
       "      <td>Active</td>\n",
       "      <td>No</td>\n",
       "      <td>Moderate</td>\n",
       "      <td>Hyperthyroidism</td>\n",
       "      <td>Corticosteroids</td>\n",
       "      <td>No</td>\n",
       "      <td>1</td>\n",
       "    </tr>\n",
       "    <tr>\n",
       "      <th>3</th>\n",
       "      <td>102316</td>\n",
       "      <td>78</td>\n",
       "      <td>Female</td>\n",
       "      <td>Normal</td>\n",
       "      <td>No</td>\n",
       "      <td>Caucasian</td>\n",
       "      <td>Underweight</td>\n",
       "      <td>Adequate</td>\n",
       "      <td>Insufficient</td>\n",
       "      <td>Sedentary</td>\n",
       "      <td>Yes</td>\n",
       "      <td>NaN</td>\n",
       "      <td>Rheumatoid Arthritis</td>\n",
       "      <td>Corticosteroids</td>\n",
       "      <td>No</td>\n",
       "      <td>1</td>\n",
       "    </tr>\n",
       "    <tr>\n",
       "      <th>4</th>\n",
       "      <td>101944</td>\n",
       "      <td>38</td>\n",
       "      <td>Male</td>\n",
       "      <td>Postmenopausal</td>\n",
       "      <td>Yes</td>\n",
       "      <td>African American</td>\n",
       "      <td>Normal</td>\n",
       "      <td>Low</td>\n",
       "      <td>Sufficient</td>\n",
       "      <td>Active</td>\n",
       "      <td>Yes</td>\n",
       "      <td>NaN</td>\n",
       "      <td>Rheumatoid Arthritis</td>\n",
       "      <td>NaN</td>\n",
       "      <td>Yes</td>\n",
       "      <td>1</td>\n",
       "    </tr>\n",
       "  </tbody>\n",
       "</table>\n",
       "</div>"
      ],
      "text/plain": [
       "       Id  Age  Gender Hormonal Changes Family History    Race/Ethnicity  \\\n",
       "0  104866   69  Female           Normal            Yes             Asian   \n",
       "1  101999   32  Female           Normal            Yes             Asian   \n",
       "2  106567   89  Female   Postmenopausal             No         Caucasian   \n",
       "3  102316   78  Female           Normal             No         Caucasian   \n",
       "4  101944   38    Male   Postmenopausal            Yes  African American   \n",
       "\n",
       "   Body Weight Calcium Intake Vitamin D Intake Physical Activity Smoking  \\\n",
       "0  Underweight            Low       Sufficient         Sedentary     Yes   \n",
       "1  Underweight            Low       Sufficient         Sedentary      No   \n",
       "2       Normal       Adequate       Sufficient            Active      No   \n",
       "3  Underweight       Adequate     Insufficient         Sedentary     Yes   \n",
       "4       Normal            Low       Sufficient            Active     Yes   \n",
       "\n",
       "  Alcohol Consumption    Medical Conditions      Medications Prior Fractures  \\\n",
       "0            Moderate  Rheumatoid Arthritis  Corticosteroids             Yes   \n",
       "1                 NaN                   NaN              NaN             Yes   \n",
       "2            Moderate       Hyperthyroidism  Corticosteroids              No   \n",
       "3                 NaN  Rheumatoid Arthritis  Corticosteroids              No   \n",
       "4                 NaN  Rheumatoid Arthritis              NaN             Yes   \n",
       "\n",
       "   Osteoporosis  \n",
       "0             1  \n",
       "1             1  \n",
       "2             1  \n",
       "3             1  \n",
       "4             1  "
      ]
     },
     "execution_count": 2,
     "metadata": {},
     "output_type": "execute_result"
    }
   ],
   "source": [
    "data = pd.read_csv(\"osteoporosis.csv\")\n",
    "data.head()"
   ]
  },
  {
   "cell_type": "markdown",
   "metadata": {},
   "source": [
    "### Understanding the dataset"
   ]
  },
  {
   "cell_type": "code",
   "execution_count": 4,
   "metadata": {},
   "outputs": [
    {
     "data": {
      "text/plain": [
       "Index(['Id', 'Age', 'Gender', 'Hormonal Changes', 'Family History',\n",
       "       'Race/Ethnicity', 'Body Weight', 'Calcium Intake', 'Vitamin D Intake',\n",
       "       'Physical Activity', 'Smoking', 'Alcohol Consumption',\n",
       "       'Medical Conditions', 'Medications', 'Prior Fractures', 'Osteoporosis'],\n",
       "      dtype='object')"
      ]
     },
     "execution_count": 4,
     "metadata": {},
     "output_type": "execute_result"
    }
   ],
   "source": [
    "data.columns"
   ]
  },
  {
   "cell_type": "code",
   "execution_count": 6,
   "metadata": {},
   "outputs": [
    {
     "data": {
      "text/plain": [
       "(1958, 16)"
      ]
     },
     "execution_count": 6,
     "metadata": {},
     "output_type": "execute_result"
    }
   ],
   "source": [
    "data.shape"
   ]
  },
  {
   "cell_type": "code",
   "execution_count": 7,
   "metadata": {},
   "outputs": [
    {
     "name": "stdout",
     "output_type": "stream",
     "text": [
      "<class 'pandas.core.frame.DataFrame'>\n",
      "RangeIndex: 1958 entries, 0 to 1957\n",
      "Data columns (total 16 columns):\n",
      " #   Column               Non-Null Count  Dtype \n",
      "---  ------               --------------  ----- \n",
      " 0   Id                   1958 non-null   int64 \n",
      " 1   Age                  1958 non-null   int64 \n",
      " 2   Gender               1958 non-null   object\n",
      " 3   Hormonal Changes     1958 non-null   object\n",
      " 4   Family History       1958 non-null   object\n",
      " 5   Race/Ethnicity       1958 non-null   object\n",
      " 6   Body Weight          1958 non-null   object\n",
      " 7   Calcium Intake       1958 non-null   object\n",
      " 8   Vitamin D Intake     1958 non-null   object\n",
      " 9   Physical Activity    1958 non-null   object\n",
      " 10  Smoking              1958 non-null   object\n",
      " 11  Alcohol Consumption  970 non-null    object\n",
      " 12  Medical Conditions   1311 non-null   object\n",
      " 13  Medications          973 non-null    object\n",
      " 14  Prior Fractures      1958 non-null   object\n",
      " 15  Osteoporosis         1958 non-null   int64 \n",
      "dtypes: int64(3), object(13)\n",
      "memory usage: 244.9+ KB\n"
     ]
    }
   ],
   "source": [
    "data.info()"
   ]
  },
  {
   "cell_type": "code",
   "execution_count": 8,
   "metadata": {},
   "outputs": [
    {
     "data": {
      "text/html": [
       "<div>\n",
       "<style scoped>\n",
       "    .dataframe tbody tr th:only-of-type {\n",
       "        vertical-align: middle;\n",
       "    }\n",
       "\n",
       "    .dataframe tbody tr th {\n",
       "        vertical-align: top;\n",
       "    }\n",
       "\n",
       "    .dataframe thead th {\n",
       "        text-align: right;\n",
       "    }\n",
       "</style>\n",
       "<table border=\"1\" class=\"dataframe\">\n",
       "  <thead>\n",
       "    <tr style=\"text-align: right;\">\n",
       "      <th></th>\n",
       "      <th>Id</th>\n",
       "      <th>Age</th>\n",
       "      <th>Osteoporosis</th>\n",
       "    </tr>\n",
       "  </thead>\n",
       "  <tbody>\n",
       "    <tr>\n",
       "      <th>count</th>\n",
       "      <td>1958.000000</td>\n",
       "      <td>1958.000000</td>\n",
       "      <td>1958.000000</td>\n",
       "    </tr>\n",
       "    <tr>\n",
       "      <th>mean</th>\n",
       "      <td>105515.320735</td>\n",
       "      <td>39.101124</td>\n",
       "      <td>0.500000</td>\n",
       "    </tr>\n",
       "    <tr>\n",
       "      <th>std</th>\n",
       "      <td>2589.407806</td>\n",
       "      <td>21.355424</td>\n",
       "      <td>0.500128</td>\n",
       "    </tr>\n",
       "    <tr>\n",
       "      <th>min</th>\n",
       "      <td>101008.000000</td>\n",
       "      <td>18.000000</td>\n",
       "      <td>0.000000</td>\n",
       "    </tr>\n",
       "    <tr>\n",
       "      <th>25%</th>\n",
       "      <td>103348.500000</td>\n",
       "      <td>21.000000</td>\n",
       "      <td>0.000000</td>\n",
       "    </tr>\n",
       "    <tr>\n",
       "      <th>50%</th>\n",
       "      <td>105469.000000</td>\n",
       "      <td>32.000000</td>\n",
       "      <td>0.500000</td>\n",
       "    </tr>\n",
       "    <tr>\n",
       "      <th>75%</th>\n",
       "      <td>107755.000000</td>\n",
       "      <td>53.000000</td>\n",
       "      <td>1.000000</td>\n",
       "    </tr>\n",
       "    <tr>\n",
       "      <th>max</th>\n",
       "      <td>109996.000000</td>\n",
       "      <td>90.000000</td>\n",
       "      <td>1.000000</td>\n",
       "    </tr>\n",
       "  </tbody>\n",
       "</table>\n",
       "</div>"
      ],
      "text/plain": [
       "                  Id          Age  Osteoporosis\n",
       "count    1958.000000  1958.000000   1958.000000\n",
       "mean   105515.320735    39.101124      0.500000\n",
       "std      2589.407806    21.355424      0.500128\n",
       "min    101008.000000    18.000000      0.000000\n",
       "25%    103348.500000    21.000000      0.000000\n",
       "50%    105469.000000    32.000000      0.500000\n",
       "75%    107755.000000    53.000000      1.000000\n",
       "max    109996.000000    90.000000      1.000000"
      ]
     },
     "execution_count": 8,
     "metadata": {},
     "output_type": "execute_result"
    }
   ],
   "source": [
    "data.describe()"
   ]
  },
  {
   "cell_type": "code",
   "execution_count": 9,
   "metadata": {},
   "outputs": [
    {
     "data": {
      "text/plain": [
       "Id\n",
       "106463    3\n",
       "107264    3\n",
       "103172    3\n",
       "107509    3\n",
       "101608    3\n",
       "         ..\n",
       "104785    1\n",
       "105710    1\n",
       "108330    1\n",
       "102281    1\n",
       "108561    1\n",
       "Name: count, Length: 1749, dtype: int64"
      ]
     },
     "execution_count": 9,
     "metadata": {},
     "output_type": "execute_result"
    }
   ],
   "source": [
    "data['Id'].value_counts()"
   ]
  },
  {
   "cell_type": "code",
   "execution_count": 11,
   "metadata": {},
   "outputs": [
    {
     "data": {
      "text/plain": [
       "0"
      ]
     },
     "execution_count": 11,
     "metadata": {},
     "output_type": "execute_result"
    }
   ],
   "source": [
    "data.duplicated().sum()"
   ]
  },
  {
   "cell_type": "code",
   "execution_count": 12,
   "metadata": {},
   "outputs": [],
   "source": [
    "data.drop(\"Id\", axis=1, inplace=True)"
   ]
  },
  {
   "cell_type": "code",
   "execution_count": 13,
   "metadata": {},
   "outputs": [
    {
     "data": {
      "text/html": [
       "<div>\n",
       "<style scoped>\n",
       "    .dataframe tbody tr th:only-of-type {\n",
       "        vertical-align: middle;\n",
       "    }\n",
       "\n",
       "    .dataframe tbody tr th {\n",
       "        vertical-align: top;\n",
       "    }\n",
       "\n",
       "    .dataframe thead th {\n",
       "        text-align: right;\n",
       "    }\n",
       "</style>\n",
       "<table border=\"1\" class=\"dataframe\">\n",
       "  <thead>\n",
       "    <tr style=\"text-align: right;\">\n",
       "      <th></th>\n",
       "      <th>Age</th>\n",
       "      <th>Gender</th>\n",
       "      <th>Hormonal Changes</th>\n",
       "      <th>Family History</th>\n",
       "      <th>Race/Ethnicity</th>\n",
       "      <th>Body Weight</th>\n",
       "      <th>Calcium Intake</th>\n",
       "      <th>Vitamin D Intake</th>\n",
       "      <th>Physical Activity</th>\n",
       "      <th>Smoking</th>\n",
       "      <th>Alcohol Consumption</th>\n",
       "      <th>Medical Conditions</th>\n",
       "      <th>Medications</th>\n",
       "      <th>Prior Fractures</th>\n",
       "      <th>Osteoporosis</th>\n",
       "    </tr>\n",
       "  </thead>\n",
       "  <tbody>\n",
       "    <tr>\n",
       "      <th>0</th>\n",
       "      <td>69</td>\n",
       "      <td>Female</td>\n",
       "      <td>Normal</td>\n",
       "      <td>Yes</td>\n",
       "      <td>Asian</td>\n",
       "      <td>Underweight</td>\n",
       "      <td>Low</td>\n",
       "      <td>Sufficient</td>\n",
       "      <td>Sedentary</td>\n",
       "      <td>Yes</td>\n",
       "      <td>Moderate</td>\n",
       "      <td>Rheumatoid Arthritis</td>\n",
       "      <td>Corticosteroids</td>\n",
       "      <td>Yes</td>\n",
       "      <td>1</td>\n",
       "    </tr>\n",
       "    <tr>\n",
       "      <th>1</th>\n",
       "      <td>32</td>\n",
       "      <td>Female</td>\n",
       "      <td>Normal</td>\n",
       "      <td>Yes</td>\n",
       "      <td>Asian</td>\n",
       "      <td>Underweight</td>\n",
       "      <td>Low</td>\n",
       "      <td>Sufficient</td>\n",
       "      <td>Sedentary</td>\n",
       "      <td>No</td>\n",
       "      <td>NaN</td>\n",
       "      <td>NaN</td>\n",
       "      <td>NaN</td>\n",
       "      <td>Yes</td>\n",
       "      <td>1</td>\n",
       "    </tr>\n",
       "    <tr>\n",
       "      <th>2</th>\n",
       "      <td>89</td>\n",
       "      <td>Female</td>\n",
       "      <td>Postmenopausal</td>\n",
       "      <td>No</td>\n",
       "      <td>Caucasian</td>\n",
       "      <td>Normal</td>\n",
       "      <td>Adequate</td>\n",
       "      <td>Sufficient</td>\n",
       "      <td>Active</td>\n",
       "      <td>No</td>\n",
       "      <td>Moderate</td>\n",
       "      <td>Hyperthyroidism</td>\n",
       "      <td>Corticosteroids</td>\n",
       "      <td>No</td>\n",
       "      <td>1</td>\n",
       "    </tr>\n",
       "    <tr>\n",
       "      <th>3</th>\n",
       "      <td>78</td>\n",
       "      <td>Female</td>\n",
       "      <td>Normal</td>\n",
       "      <td>No</td>\n",
       "      <td>Caucasian</td>\n",
       "      <td>Underweight</td>\n",
       "      <td>Adequate</td>\n",
       "      <td>Insufficient</td>\n",
       "      <td>Sedentary</td>\n",
       "      <td>Yes</td>\n",
       "      <td>NaN</td>\n",
       "      <td>Rheumatoid Arthritis</td>\n",
       "      <td>Corticosteroids</td>\n",
       "      <td>No</td>\n",
       "      <td>1</td>\n",
       "    </tr>\n",
       "    <tr>\n",
       "      <th>4</th>\n",
       "      <td>38</td>\n",
       "      <td>Male</td>\n",
       "      <td>Postmenopausal</td>\n",
       "      <td>Yes</td>\n",
       "      <td>African American</td>\n",
       "      <td>Normal</td>\n",
       "      <td>Low</td>\n",
       "      <td>Sufficient</td>\n",
       "      <td>Active</td>\n",
       "      <td>Yes</td>\n",
       "      <td>NaN</td>\n",
       "      <td>Rheumatoid Arthritis</td>\n",
       "      <td>NaN</td>\n",
       "      <td>Yes</td>\n",
       "      <td>1</td>\n",
       "    </tr>\n",
       "  </tbody>\n",
       "</table>\n",
       "</div>"
      ],
      "text/plain": [
       "   Age  Gender Hormonal Changes Family History    Race/Ethnicity  Body Weight  \\\n",
       "0   69  Female           Normal            Yes             Asian  Underweight   \n",
       "1   32  Female           Normal            Yes             Asian  Underweight   \n",
       "2   89  Female   Postmenopausal             No         Caucasian       Normal   \n",
       "3   78  Female           Normal             No         Caucasian  Underweight   \n",
       "4   38    Male   Postmenopausal            Yes  African American       Normal   \n",
       "\n",
       "  Calcium Intake Vitamin D Intake Physical Activity Smoking  \\\n",
       "0            Low       Sufficient         Sedentary     Yes   \n",
       "1            Low       Sufficient         Sedentary      No   \n",
       "2       Adequate       Sufficient            Active      No   \n",
       "3       Adequate     Insufficient         Sedentary     Yes   \n",
       "4            Low       Sufficient            Active     Yes   \n",
       "\n",
       "  Alcohol Consumption    Medical Conditions      Medications Prior Fractures  \\\n",
       "0            Moderate  Rheumatoid Arthritis  Corticosteroids             Yes   \n",
       "1                 NaN                   NaN              NaN             Yes   \n",
       "2            Moderate       Hyperthyroidism  Corticosteroids              No   \n",
       "3                 NaN  Rheumatoid Arthritis  Corticosteroids              No   \n",
       "4                 NaN  Rheumatoid Arthritis              NaN             Yes   \n",
       "\n",
       "   Osteoporosis  \n",
       "0             1  \n",
       "1             1  \n",
       "2             1  \n",
       "3             1  \n",
       "4             1  "
      ]
     },
     "execution_count": 13,
     "metadata": {},
     "output_type": "execute_result"
    }
   ],
   "source": [
    "data.head()"
   ]
  },
  {
   "cell_type": "code",
   "execution_count": 14,
   "metadata": {},
   "outputs": [
    {
     "data": {
      "text/plain": [
       "Age                      0\n",
       "Gender                   0\n",
       "Hormonal Changes         0\n",
       "Family History           0\n",
       "Race/Ethnicity           0\n",
       "Body Weight              0\n",
       "Calcium Intake           0\n",
       "Vitamin D Intake         0\n",
       "Physical Activity        0\n",
       "Smoking                  0\n",
       "Alcohol Consumption    988\n",
       "Medical Conditions     647\n",
       "Medications            985\n",
       "Prior Fractures          0\n",
       "Osteoporosis             0\n",
       "dtype: int64"
      ]
     },
     "execution_count": 14,
     "metadata": {},
     "output_type": "execute_result"
    }
   ],
   "source": [
    "data.isna().sum()"
   ]
  },
  {
   "cell_type": "code",
   "execution_count": 16,
   "metadata": {},
   "outputs": [],
   "source": [
    "data[\"Alcohol Consumption\"] = data[\"Alcohol Consumption\"].fillna(\"None\")\n",
    "data[\"Medical Conditions\"] = data[\"Medical Conditions\"].fillna(\"None\")\n",
    "data[\"Medications\"] = data[\"Medications\"].fillna(\"None\")"
   ]
  },
  {
   "cell_type": "code",
   "execution_count": 17,
   "metadata": {},
   "outputs": [
    {
     "data": {
      "text/plain": [
       "Age                    0\n",
       "Gender                 0\n",
       "Hormonal Changes       0\n",
       "Family History         0\n",
       "Race/Ethnicity         0\n",
       "Body Weight            0\n",
       "Calcium Intake         0\n",
       "Vitamin D Intake       0\n",
       "Physical Activity      0\n",
       "Smoking                0\n",
       "Alcohol Consumption    0\n",
       "Medical Conditions     0\n",
       "Medications            0\n",
       "Prior Fractures        0\n",
       "Osteoporosis           0\n",
       "dtype: int64"
      ]
     },
     "execution_count": 17,
     "metadata": {},
     "output_type": "execute_result"
    }
   ],
   "source": [
    "data.isna().sum()"
   ]
  },
  {
   "cell_type": "code",
   "execution_count": null,
   "metadata": {},
   "outputs": [],
   "source": []
  }
 ],
 "metadata": {
  "kernelspec": {
   "display_name": "base",
   "language": "python",
   "name": "python3"
  },
  "language_info": {
   "codemirror_mode": {
    "name": "ipython",
    "version": 3
   },
   "file_extension": ".py",
   "mimetype": "text/x-python",
   "name": "python",
   "nbconvert_exporter": "python",
   "pygments_lexer": "ipython3",
   "version": "3.12.4"
  }
 },
 "nbformat": 4,
 "nbformat_minor": 2
}
